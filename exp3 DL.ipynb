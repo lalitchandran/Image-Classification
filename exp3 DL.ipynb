{
 "cells": [
  {
   "cell_type": "code",
   "execution_count": 1,
   "metadata": {
    "executionInfo": {
     "elapsed": 22416,
     "status": "ok",
     "timestamp": 1742794036379,
     "user": {
      "displayName": "Himavath M",
      "userId": "15071492398176278693"
     },
     "user_tz": -330
    },
    "id": "cpI5hyJko_G6"
   },
   "outputs": [],
   "source": [
    "import torch\n",
    "import torch.nn as nn\n",
    "import torch.optim as optim\n",
    "import torchvision\n",
    "import torchvision.transforms as transforms\n",
    "from torch.utils.data import DataLoader\n",
    "import matplotlib.pyplot as plt\n",
    "import numpy as np\n",
    "from sklearn.metrics import confusion_matrix, classification_report\n",
    "import seaborn as sns"
   ]
  },
  {
   "cell_type": "code",
   "execution_count": 2,
   "metadata": {
    "executionInfo": {
     "elapsed": 51,
     "status": "ok",
     "timestamp": 1742794351344,
     "user": {
      "displayName": "Himavath M",
      "userId": "15071492398176278693"
     },
     "user_tz": -330
    },
    "id": "AhupLtlqpV7p"
   },
   "outputs": [],
   "source": [
    "transform = transforms.Compose([\n",
    "    transforms.ToTensor(),          # Convert images to tensors\n",
    "    transforms.Normalize((0.5,), (0.5,))  # Normalize images\n",
    "])"
   ]
  },
  {
   "cell_type": "code",
   "execution_count": 3,
   "metadata": {
    "colab": {
     "base_uri": "https://localhost:8080/"
    },
    "executionInfo": {
     "elapsed": 6616,
     "status": "ok",
     "timestamp": 1742794369253,
     "user": {
      "displayName": "Himavath M",
      "userId": "15071492398176278693"
     },
     "user_tz": -330
    },
    "id": "6x7pjlWmsuXc",
    "outputId": "1733f2a0-af2a-4c67-a65a-a047411c226c"
   },
   "outputs": [
    {
     "name": "stderr",
     "output_type": "stream",
     "text": [
      "100%|██████████| 26.4M/26.4M [00:02<00:00, 12.7MB/s]\n",
      "100%|██████████| 29.5k/29.5k [00:00<00:00, 196kB/s]\n",
      "100%|██████████| 4.42M/4.42M [00:01<00:00, 3.68MB/s]\n",
      "100%|██████████| 5.15k/5.15k [00:00<00:00, 10.6MB/s]\n"
     ]
    }
   ],
   "source": [
    "train_dataset = torchvision.datasets.FashionMNIST(root=\"./data\", train=True, transform=transform, download=True)\n",
    "test_dataset = torchvision.datasets.FashionMNIST(root=\"./data\", train=False, transform=transform, download=True)"
   ]
  },
  {
   "cell_type": "code",
   "execution_count": 4,
   "metadata": {
    "colab": {
     "base_uri": "https://localhost:8080/"
    },
    "executionInfo": {
     "elapsed": 10,
     "status": "ok",
     "timestamp": 1742794372887,
     "user": {
      "displayName": "Himavath M",
      "userId": "15071492398176278693"
     },
     "user_tz": -330
    },
    "id": "cRukdGA2sx5J",
    "outputId": "6a6effd9-7c71-4a74-c932-7af9c0e1e4fe"
   },
   "outputs": [
    {
     "name": "stdout",
     "output_type": "stream",
     "text": [
      "torch.Size([1, 28, 28])\n",
      "60000\n"
     ]
    }
   ],
   "source": [
    "image, label = train_dataset[0]\n",
    "print(image.shape)\n",
    "print(len(train_dataset))"
   ]
  },
  {
   "cell_type": "code",
   "execution_count": 5,
   "metadata": {
    "colab": {
     "base_uri": "https://localhost:8080/"
    },
    "executionInfo": {
     "elapsed": 16,
     "status": "ok",
     "timestamp": 1742794380275,
     "user": {
      "displayName": "Himavath M",
      "userId": "15071492398176278693"
     },
     "user_tz": -330
    },
    "id": "1CvlZtv-tbQe",
    "outputId": "24c0b484-8114-4256-efda-b307cc250d0f"
   },
   "outputs": [
    {
     "name": "stdout",
     "output_type": "stream",
     "text": [
      "torch.Size([1, 28, 28])\n",
      "10000\n"
     ]
    }
   ],
   "source": [
    "image, label = test_dataset[0]\n",
    "print(image.shape)\n",
    "print(len(test_dataset))"
   ]
  },
  {
   "cell_type": "code",
   "execution_count": 6,
   "metadata": {
    "executionInfo": {
     "elapsed": 7,
     "status": "ok",
     "timestamp": 1742794386057,
     "user": {
      "displayName": "Himavath M",
      "userId": "15071492398176278693"
     },
     "user_tz": -330
    },
    "id": "wEZHplldtpT1"
   },
   "outputs": [],
   "source": [
    "train_loader = DataLoader(train_dataset, batch_size=32, shuffle=True)\n",
    "test_loader = DataLoader(test_dataset, batch_size=32, shuffle=False)"
   ]
  },
  {
   "cell_type": "code",
   "execution_count": 7,
   "metadata": {
    "executionInfo": {
     "elapsed": 58,
     "status": "ok",
     "timestamp": 1742794402375,
     "user": {
      "displayName": "Himavath M",
      "userId": "15071492398176278693"
     },
     "user_tz": -330
    },
    "id": "ULc0olulttIN"
   },
   "outputs": [],
   "source": [
    "class CNNClassifier (nn.Module):\n",
    "  def __init__(self):\n",
    "    super (CNNClassifier, self).__init__()\n",
    "    self.conv1 = nn.Conv2d(in_channels=1, out_channels=32, kernel_size=3, padding=1)\n",
    "    self.conv2 = nn.Conv2d(in_channels=32, out_channels=64, kernel_size=3, padding=1)\n",
    "    self.conv3 = nn.Conv2d(in_channels=64, out_channels=128, kernel_size=3, padding=1)\n",
    "    self.pool = nn.MaxPool2d(kernel_size=2, stride=2)\n",
    "    self.fc1 = nn.Linear(128 * 3 * 3, 128)\n",
    "    self.fc2 = nn.Linear (128, 64)\n",
    "    self.fc3 = nn.Linear (64, 10)\n",
    "  def forward(self, x):\n",
    "    x = self.pool(torch.relu(self.conv1(x)))\n",
    "    x = self.pool(torch.relu (self.conv2(x)))\n",
    "    x = self.pool(torch.relu(self.conv3(x)))\n",
    "    x = x.view(x.size(0), -1) # Flatten the image\n",
    "    x = torch.relu(self.fc1(x))\n",
    "    x = torch.relu(self.fc2(x))\n",
    "    x = self.fc3(x)\n",
    "    return x"
   ]
  },
  {
   "cell_type": "code",
   "execution_count": 8,
   "metadata": {
    "colab": {
     "base_uri": "https://localhost:8080/"
    },
    "executionInfo": {
     "elapsed": 1253,
     "status": "ok",
     "timestamp": 1742794430259,
     "user": {
      "displayName": "Himavath M",
      "userId": "15071492398176278693"
     },
     "user_tz": -330
    },
    "id": "kbXIUSsTuonT",
    "outputId": "c88f7951-5684-42b1-9ac1-f184c4426f15"
   },
   "outputs": [
    {
     "name": "stdout",
     "output_type": "stream",
     "text": [
      "Name:Himavath M\n",
      "Register Number: 212223240053\n",
      "----------------------------------------------------------------\n",
      "        Layer (type)               Output Shape         Param #\n",
      "================================================================\n",
      "            Conv2d-1           [-1, 32, 28, 28]             320\n",
      "         MaxPool2d-2           [-1, 32, 14, 14]               0\n",
      "            Conv2d-3           [-1, 64, 14, 14]          18,496\n",
      "         MaxPool2d-4             [-1, 64, 7, 7]               0\n",
      "            Conv2d-5            [-1, 128, 7, 7]          73,856\n",
      "         MaxPool2d-6            [-1, 128, 3, 3]               0\n",
      "            Linear-7                  [-1, 128]         147,584\n",
      "            Linear-8                   [-1, 64]           8,256\n",
      "            Linear-9                   [-1, 10]             650\n",
      "================================================================\n",
      "Total params: 249,162\n",
      "Trainable params: 249,162\n",
      "Non-trainable params: 0\n",
      "----------------------------------------------------------------\n",
      "Input size (MB): 0.00\n",
      "Forward/backward pass size (MB): 0.42\n",
      "Params size (MB): 0.95\n",
      "Estimated Total Size (MB): 1.37\n",
      "----------------------------------------------------------------\n"
     ]
    }
   ],
   "source": [
    "from torchsummary import summary\n",
    "\n",
    "# Initialize model\n",
    "model = CNNClassifier()\n",
    "\n",
    "# Move model to GPU if available\n",
    "if torch.cuda.is_available():\n",
    "    device = torch.device(\"cuda\")\n",
    "    model.to(device)\n",
    "\n",
    "# Print model summary\n",
    "print('Name:Himavath M')\n",
    "print('Register Number: 212223240053')\n",
    "summary(model, input_size=(1, 28, 28))"
   ]
  },
  {
   "cell_type": "code",
   "execution_count": 9,
   "metadata": {
    "executionInfo": {
     "elapsed": 20,
     "status": "ok",
     "timestamp": 1742794445393,
     "user": {
      "displayName": "Himavath M",
      "userId": "15071492398176278693"
     },
     "user_tz": -330
    },
    "id": "AFWXePA-pKI4"
   },
   "outputs": [],
   "source": [
    "# Initialize model, loss function, and optimizer\n",
    "model = CNNClassifier()\n",
    "criterion = nn.CrossEntropyLoss()\n",
    "optimizer = optim.Adam(model.parameters(), lr=0.001)\n"
   ]
  },
  {
   "cell_type": "code",
   "execution_count": 10,
   "metadata": {
    "executionInfo": {
     "elapsed": 60,
     "status": "ok",
     "timestamp": 1742794492328,
     "user": {
      "displayName": "Himavath M",
      "userId": "15071492398176278693"
     },
     "user_tz": -330
    },
    "id": "EjoML3mcpNlD"
   },
   "outputs": [],
   "source": [
    "## Step 3: Train the Model\n",
    "def train_model(model, train_loader, num_epochs=3):\n",
    "    # Move model to GPU if available, inside the function\n",
    "    if torch.cuda.is_available():\n",
    "        device = torch.device(\"cuda\")\n",
    "        model.to(device)\n",
    "\n",
    "    for epoch in range(num_epochs):\n",
    "        running_loss = 0.0\n",
    "        for images, labels in train_loader:\n",
    "            # Move images and labels to the same device as the model\n",
    "            images = images.to(device)\n",
    "            labels = labels.to(device)\n",
    "\n",
    "            # Forward pass\n",
    "            outputs = model(images)\n",
    "            loss = criterion(outputs, labels)\n",
    "\n",
    "            # Backward and optimize\n",
    "            optimizer.zero_grad()\n",
    "            loss.backward()\n",
    "            optimizer.step()\n",
    "\n",
    "            running_loss += loss.item()\n",
    "\n",
    "        print('Name: Himavath M')\n",
    "        print('Register Number: 212223240053')\n",
    "        print(f'Epoch [{epoch+1}/{num_epochs}], Loss: {running_loss/len(train_loader):.4f}')"
   ]
  },
  {
   "cell_type": "code",
   "execution_count": 11,
   "metadata": {
    "colab": {
     "base_uri": "https://localhost:8080/"
    },
    "executionInfo": {
     "elapsed": 61366,
     "status": "ok",
     "timestamp": 1742794565603,
     "user": {
      "displayName": "Himavath M",
      "userId": "15071492398176278693"
     },
     "user_tz": -330
    },
    "id": "xhnOKQetpZNb",
    "outputId": "a1460011-f9b4-44a5-c99d-8766d9e2e110"
   },
   "outputs": [
    {
     "name": "stdout",
     "output_type": "stream",
     "text": [
      "Name: Himavath M\n",
      "Register Number: 212223240053\n",
      "Epoch [1/3], Loss: 0.4710\n",
      "Name: Himavath M\n",
      "Register Number: 212223240053\n",
      "Epoch [2/3], Loss: 0.2834\n",
      "Name: Himavath M\n",
      "Register Number: 212223240053\n",
      "Epoch [3/3], Loss: 0.2392\n"
     ]
    }
   ],
   "source": [
    "train_model(model, train_loader)"
   ]
  },
  {
   "cell_type": "code",
   "execution_count": 12,
   "metadata": {
    "executionInfo": {
     "elapsed": 29,
     "status": "ok",
     "timestamp": 1742794678448,
     "user": {
      "displayName": "Himavath M",
      "userId": "15071492398176278693"
     },
     "user_tz": -330
    },
    "id": "6yIeyxKkpb7V"
   },
   "outputs": [],
   "source": [
    "def test_model(model, test_loader):\n",
    "    model.eval()\n",
    "    correct = 0\n",
    "    total = 0\n",
    "    all_preds = []\n",
    "    all_labels = []\n",
    "\n",
    "    # Get the device the model is on\n",
    "    device = next(model.parameters()).device\n",
    "\n",
    "    with torch.no_grad():\n",
    "        for images, labels in test_loader:\n",
    "            # Move images and labels to the same device as the model\n",
    "            images = images.to(device)\n",
    "            labels = labels.to(device)\n",
    "\n",
    "            outputs = model(images)\n",
    "            _, predicted = torch.max(outputs, 1)\n",
    "            total += labels.size(0)\n",
    "            correct += (predicted == labels).sum().item()\n",
    "            all_preds.extend(predicted.cpu().numpy())\n",
    "            all_labels.extend(labels.cpu().numpy())\n",
    "\n",
    "    accuracy = correct / total\n",
    "    print('Name:Himavath M')\n",
    "    print('Register Number: 212223240053')\n",
    "    print(f'Test Accuracy: {accuracy:.4f}')\n",
    "\n",
    "    # Compute confusion matrix\n",
    "    cm = confusion_matrix(all_labels, all_preds)\n",
    "    plt.figure(figsize=(8, 6))\n",
    "    print('Name: Himavath M')\n",
    "    print('Register Number: 212223240053')\n",
    "    sns.heatmap(cm, annot=True, fmt='d', cmap='Blues', xticklabels=test_dataset.classes, yticklabels=test_dataset.classes)\n",
    "    plt.xlabel('Predicted')\n",
    "    plt.ylabel('Actual')\n",
    "    plt.title('Confusion Matrix')\n",
    "    plt.show()\n",
    "\n",
    "    # Print classification report\n",
    "    print('Name: Himavath M')\n",
    "    print('Register Number: 212223240053')\n",
    "    print(\"Classification Report:\")\n",
    "    print(classification_report(all_labels, all_preds, target_names=test_dataset.classes))"
   ]
  },
  {
   "cell_type": "code",
   "execution_count": 13,
   "metadata": {
    "colab": {
     "base_uri": "https://localhost:8080/",
     "height": 1000
    },
    "executionInfo": {
     "elapsed": 9308,
     "status": "ok",
     "timestamp": 1742794704575,
     "user": {
      "displayName": "Himavath M",
      "userId": "15071492398176278693"
     },
     "user_tz": -330
    },
    "id": "zQVv81ylqGyS",
    "outputId": "ed78d1b1-9af9-40cc-ac14-1146a75224d9"
   },
   "outputs": [
    {
     "name": "stdout",
     "output_type": "stream",
     "text": [
      "Name:Himavath M\n",
      "Register Number: 212223240053\n",
      "Test Accuracy: 0.9020\n",
      "Name: Himavath M\n",
      "Register Number: 212223240053\n"
     ]
    },
    {
     "data": {
      "image/png": "[encoded data removed]",
      "text/plain": [
       "<Figure size 800x600 with 2 Axes>"
      ]
     },
     "metadata": {},
     "output_type": "display_data"
    },
    {
     "name": "stdout",
     "output_type": "stream",
     "text": [
      "Name: Himavath M\n",
      "Register Number: 212223240053\n",
      "Classification Report:\n",
      "              precision    recall  f1-score   support\n",
      "\n",
      " T-shirt/top       0.91      0.77      0.83      1000\n",
      "     Trouser       0.99      0.97      0.98      1000\n",
      "    Pullover       0.91      0.78      0.84      1000\n",
      "       Dress       0.90      0.92      0.91      1000\n",
      "        Coat       0.84      0.85      0.85      1000\n",
      "      Sandal       0.99      0.97      0.98      1000\n",
      "       Shirt       0.65      0.83      0.73      1000\n",
      "     Sneaker       0.97      0.95      0.96      1000\n",
      "         Bag       0.98      0.99      0.98      1000\n",
      "  Ankle boot       0.95      0.98      0.97      1000\n",
      "\n",
      "    accuracy                           0.90     10000\n",
      "   macro avg       0.91      0.90      0.90     10000\n",
      "weighted avg       0.91      0.90      0.90     10000\n",
      "\n"
     ]
    }
   ],
   "source": [
    "test_model(model, test_loader)"
   ]
  },
  {
   "cell_type": "code",
   "execution_count": 14,
   "metadata": {
    "executionInfo": {
     "elapsed": 75,
     "status": "ok",
     "timestamp": 1742794746970,
     "user": {
      "displayName": "Himavath M",
      "userId": "15071492398176278693"
     },
     "user_tz": -330
    },
    "id": "YrkIbRWzqRoU"
   },
   "outputs": [],
   "source": [
    "import matplotlib.pyplot as plt\n",
    "def predict_image(model, image_index, dataset):\n",
    "    model.eval()\n",
    "    image, label = dataset[image_index]\n",
    "\n",
    "    # Get the device the model is on\n",
    "    device = next(model.parameters()).device\n",
    "\n",
    "    # Move the image to the same device as the model\n",
    "    image = image.to(device)\n",
    "\n",
    "    with torch.no_grad():\n",
    "        output = model(image.unsqueeze(0).to(device))  # Add batch dimension and move to device\n",
    "        _, predicted = torch.max(output, 1)\n",
    "    class_names = dataset.classes\n",
    "\n",
    "    # Display the image\n",
    "    print('Name: Himavath M')\n",
    "    print('Register Number: 212223240053')\n",
    "    plt.imshow(image.cpu().squeeze(), cmap=\"gray\") # Move back to CPU for display\n",
    "    plt.title(f'Actual: {class_names[label]}\\nPredicted: {class_names[predicted.item()]}')\n",
    "    plt.axis(\"off\")\n",
    "    plt.show()\n",
    "    print(f'Actual: {class_names[label]}, Predicted: {class_names[predicted.item()]}')\n",
    "\n"
   ]
  },
  {
   "cell_type": "code",
   "execution_count": 15,
   "metadata": {
    "colab": {
     "base_uri": "https://localhost:8080/",
     "height": 501
    },
    "executionInfo": {
     "elapsed": 1585,
     "status": "ok",
     "timestamp": 1742794767042,
     "user": {
      "displayName": "Himavath M",
      "userId": "15071492398176278693"
     },
     "user_tz": -330
    },
    "id": "mywoenWhqZ_J",
    "outputId": "0382b0c2-b415-4ba8-f14b-2ab57c61cb42"
   },
   "outputs": [
    {
     "name": "stdout",
     "output_type": "stream",
     "text": [
      "Name: Himavath M\n",
      "Register Number: 212223240053\n"
     ]
    },
    {
     "data": {
      "image/png": "[encoded data removed]",
      "text/plain": [
       "<Figure size 640x480 with 1 Axes>"
      ]
     },
     "metadata": {},
     "output_type": "display_data"
    },
    {
     "name": "stdout",
     "output_type": "stream",
     "text": [
      "Actual: T-shirt/top, Predicted: T-shirt/top\n"
     ]
    }
   ],
   "source": [
    "predict_image(model, image_index=85, dataset=test_dataset)"
   ]
  },
  {
   "cell_type": "code",
   "execution_count": null,
   "metadata": {
    "id": "J2mq-qmCqcT1"
   },
   "outputs": [],
   "source": []
  }
 ],
 "metadata": {
  "accelerator": "GPU",
  "colab": {
   "authorship_tag": "ABX9TyM6sc/aszGemnBBg5Ja59FA",
   "gpuType": "T4",
   "provenance": []
  },
  "kernelspec": {
   "display_name": "Python 3",
   "name": "python3"
  },
  "language_info": {
   "name": "python"
  }
 },
 "nbformat": 4,
 "nbformat_minor": 0
}
